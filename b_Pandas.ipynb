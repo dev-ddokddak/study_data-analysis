{
 "cells": [
  {
   "cell_type": "markdown",
   "id": "c496dc9f",
   "metadata": {},
   "source": [
    "### 판다스(Pandas)\n",
    "- 데이터 처리 라이브러리 중 가장 인기있는 라이브러리이다.\n",
    "- 2차원 데이터(테이블, 엑셀, CSV 등)를 효율적으로 가공 및 처리할 수 있다.\n",
    "📌 대부분의 Dataset은 인간이 가장 이해하기 쉬운 구조인 2차원(행, 열)이다."
   ]
  },
  {
   "cell_type": "markdown",
   "id": "4db24da9",
   "metadata": {},
   "source": [
    "### 판다스 구성 요소\n",
    "- DataFrame : 행과 열로 구성된 2차원 Dataset을 의미한다.\n",
    "- Series : 1개의 열로만 구성된 1차원 Dataset을 의미한다.\n",
    "- Index : DataFrame과 Series에서 중복없는 행 번호를 의미한다."
   ]
  },
  {
   "cell_type": "code",
   "execution_count": 2,
   "id": "757a1aa1",
   "metadata": {},
   "outputs": [
    {
     "data": {
      "text/plain": [
       "'2.0.3'"
      ]
     },
     "execution_count": 2,
     "metadata": {},
     "output_type": "execute_result"
    }
   ],
   "source": [
    "import pandas as pd\n",
    "pd.__version__"
   ]
  },
  {
   "cell_type": "markdown",
   "id": "ee2705b6",
   "metadata": {},
   "source": [
    "### read_csv()\n",
    "- .csv 파일을 DataFrame으로 읽어온다.\n",
    "### display(_)\n",
    "- 텍스트 데이터를 더 보기 좋게 "
   ]
  },
  {
   "cell_type": "code",
   "execution_count": 6,
   "id": "78b6e31b",
   "metadata": {},
   "outputs": [
    {
     "data": {
      "text/html": [
       "<div>\n",
       "<style scoped>\n",
       "    .dataframe tbody tr th:only-of-type {\n",
       "        vertical-align: middle;\n",
       "    }\n",
       "\n",
       "    .dataframe tbody tr th {\n",
       "        vertical-align: top;\n",
       "    }\n",
       "\n",
       "    .dataframe thead th {\n",
       "        text-align: right;\n",
       "    }\n",
       "</style>\n",
       "<table border=\"1\" class=\"dataframe\">\n",
       "  <thead>\n",
       "    <tr style=\"text-align: right;\">\n",
       "      <th></th>\n",
       "      <th>country</th>\n",
       "      <th>score</th>\n",
       "      <th>income</th>\n",
       "    </tr>\n",
       "  </thead>\n",
       "  <tbody>\n",
       "    <tr>\n",
       "      <th>0</th>\n",
       "      <td>Finland</td>\n",
       "      <td>7.821</td>\n",
       "      <td>High income</td>\n",
       "    </tr>\n",
       "    <tr>\n",
       "      <th>1</th>\n",
       "      <td>Denmark</td>\n",
       "      <td>7.636</td>\n",
       "      <td>High income</td>\n",
       "    </tr>\n",
       "    <tr>\n",
       "      <th>2</th>\n",
       "      <td>Iceland</td>\n",
       "      <td>7.557</td>\n",
       "      <td>High income</td>\n",
       "    </tr>\n",
       "    <tr>\n",
       "      <th>3</th>\n",
       "      <td>Switzerland</td>\n",
       "      <td>7.512</td>\n",
       "      <td>High income</td>\n",
       "    </tr>\n",
       "    <tr>\n",
       "      <th>4</th>\n",
       "      <td>Netherlands</td>\n",
       "      <td>7.415</td>\n",
       "      <td>High income</td>\n",
       "    </tr>\n",
       "    <tr>\n",
       "      <th>...</th>\n",
       "      <td>...</td>\n",
       "      <td>...</td>\n",
       "      <td>...</td>\n",
       "    </tr>\n",
       "    <tr>\n",
       "      <th>141</th>\n",
       "      <td>Botswana</td>\n",
       "      <td>3.471</td>\n",
       "      <td>Upper middle income</td>\n",
       "    </tr>\n",
       "    <tr>\n",
       "      <th>142</th>\n",
       "      <td>Rwanda</td>\n",
       "      <td>3.268</td>\n",
       "      <td>Low income</td>\n",
       "    </tr>\n",
       "    <tr>\n",
       "      <th>143</th>\n",
       "      <td>Zimbabwe</td>\n",
       "      <td>2.995</td>\n",
       "      <td>Lower middle income</td>\n",
       "    </tr>\n",
       "    <tr>\n",
       "      <th>144</th>\n",
       "      <td>Lebanon</td>\n",
       "      <td>2.955</td>\n",
       "      <td>Lower middle income</td>\n",
       "    </tr>\n",
       "    <tr>\n",
       "      <th>145</th>\n",
       "      <td>Afghanistan</td>\n",
       "      <td>2.404</td>\n",
       "      <td>Low income</td>\n",
       "    </tr>\n",
       "  </tbody>\n",
       "</table>\n",
       "<p>146 rows × 3 columns</p>\n",
       "</div>"
      ],
      "text/plain": [
       "         country  score               income\n",
       "0        Finland  7.821          High income\n",
       "1        Denmark  7.636          High income\n",
       "2        Iceland  7.557          High income\n",
       "3    Switzerland  7.512          High income\n",
       "4    Netherlands  7.415          High income\n",
       "..           ...    ...                  ...\n",
       "141     Botswana  3.471  Upper middle income\n",
       "142       Rwanda  3.268           Low income\n",
       "143     Zimbabwe  2.995  Lower middle income\n",
       "144      Lebanon  2.955  Lower middle income\n",
       "145  Afghanistan  2.404           Low income\n",
       "\n",
       "[146 rows x 3 columns]"
      ]
     },
     "execution_count": 6,
     "metadata": {},
     "output_type": "execute_result"
    }
   ],
   "source": [
    "happiness_df = pd.read_csv('./datasets/happiness_report_2022.csv')\n",
    "happiness_df"
   ]
  },
  {
   "cell_type": "markdown",
   "id": "c2555d26",
   "metadata": {},
   "source": [
    "### head()\n",
    "- 전체 데이터 중 앞부분 일부를 가져온다.\n",
    "### tail()\n",
    "- 전체 데이터 중 뒷부분 일부를 가져온다."
   ]
  },
  {
   "cell_type": "code",
   "execution_count": 8,
   "id": "1bdc72f7",
   "metadata": {},
   "outputs": [
    {
     "data": {
      "text/html": [
       "<div>\n",
       "<style scoped>\n",
       "    .dataframe tbody tr th:only-of-type {\n",
       "        vertical-align: middle;\n",
       "    }\n",
       "\n",
       "    .dataframe tbody tr th {\n",
       "        vertical-align: top;\n",
       "    }\n",
       "\n",
       "    .dataframe thead th {\n",
       "        text-align: right;\n",
       "    }\n",
       "</style>\n",
       "<table border=\"1\" class=\"dataframe\">\n",
       "  <thead>\n",
       "    <tr style=\"text-align: right;\">\n",
       "      <th></th>\n",
       "      <th>country</th>\n",
       "      <th>score</th>\n",
       "      <th>income</th>\n",
       "    </tr>\n",
       "  </thead>\n",
       "  <tbody>\n",
       "    <tr>\n",
       "      <th>0</th>\n",
       "      <td>Finland</td>\n",
       "      <td>7.821</td>\n",
       "      <td>High income</td>\n",
       "    </tr>\n",
       "    <tr>\n",
       "      <th>1</th>\n",
       "      <td>Denmark</td>\n",
       "      <td>7.636</td>\n",
       "      <td>High income</td>\n",
       "    </tr>\n",
       "    <tr>\n",
       "      <th>2</th>\n",
       "      <td>Iceland</td>\n",
       "      <td>7.557</td>\n",
       "      <td>High income</td>\n",
       "    </tr>\n",
       "    <tr>\n",
       "      <th>3</th>\n",
       "      <td>Switzerland</td>\n",
       "      <td>7.512</td>\n",
       "      <td>High income</td>\n",
       "    </tr>\n",
       "    <tr>\n",
       "      <th>4</th>\n",
       "      <td>Netherlands</td>\n",
       "      <td>7.415</td>\n",
       "      <td>High income</td>\n",
       "    </tr>\n",
       "    <tr>\n",
       "      <th>5</th>\n",
       "      <td>Luxembourg</td>\n",
       "      <td>7.404</td>\n",
       "      <td>High income</td>\n",
       "    </tr>\n",
       "    <tr>\n",
       "      <th>6</th>\n",
       "      <td>Sweden</td>\n",
       "      <td>7.384</td>\n",
       "      <td>High income</td>\n",
       "    </tr>\n",
       "    <tr>\n",
       "      <th>7</th>\n",
       "      <td>Norway</td>\n",
       "      <td>7.365</td>\n",
       "      <td>High income</td>\n",
       "    </tr>\n",
       "    <tr>\n",
       "      <th>8</th>\n",
       "      <td>Israel</td>\n",
       "      <td>7.364</td>\n",
       "      <td>High income</td>\n",
       "    </tr>\n",
       "    <tr>\n",
       "      <th>9</th>\n",
       "      <td>New Zealand</td>\n",
       "      <td>7.200</td>\n",
       "      <td>High income</td>\n",
       "    </tr>\n",
       "  </tbody>\n",
       "</table>\n",
       "</div>"
      ],
      "text/plain": [
       "       country  score       income\n",
       "0      Finland  7.821  High income\n",
       "1      Denmark  7.636  High income\n",
       "2      Iceland  7.557  High income\n",
       "3  Switzerland  7.512  High income\n",
       "4  Netherlands  7.415  High income\n",
       "5   Luxembourg  7.404  High income\n",
       "6       Sweden  7.384  High income\n",
       "7       Norway  7.365  High income\n",
       "8       Israel  7.364  High income\n",
       "9  New Zealand  7.200  High income"
      ]
     },
     "metadata": {},
     "output_type": "display_data"
    },
    {
     "data": {
      "text/html": [
       "<div>\n",
       "<style scoped>\n",
       "    .dataframe tbody tr th:only-of-type {\n",
       "        vertical-align: middle;\n",
       "    }\n",
       "\n",
       "    .dataframe tbody tr th {\n",
       "        vertical-align: top;\n",
       "    }\n",
       "\n",
       "    .dataframe thead th {\n",
       "        text-align: right;\n",
       "    }\n",
       "</style>\n",
       "<table border=\"1\" class=\"dataframe\">\n",
       "  <thead>\n",
       "    <tr style=\"text-align: right;\">\n",
       "      <th></th>\n",
       "      <th>country</th>\n",
       "      <th>score</th>\n",
       "      <th>income</th>\n",
       "    </tr>\n",
       "  </thead>\n",
       "  <tbody>\n",
       "    <tr>\n",
       "      <th>136</th>\n",
       "      <td>Zambia</td>\n",
       "      <td>3.760</td>\n",
       "      <td>Low income</td>\n",
       "    </tr>\n",
       "    <tr>\n",
       "      <th>137</th>\n",
       "      <td>Malawi</td>\n",
       "      <td>3.750</td>\n",
       "      <td>Low income</td>\n",
       "    </tr>\n",
       "    <tr>\n",
       "      <th>138</th>\n",
       "      <td>Tanzania</td>\n",
       "      <td>3.702</td>\n",
       "      <td>Lower middle income</td>\n",
       "    </tr>\n",
       "    <tr>\n",
       "      <th>139</th>\n",
       "      <td>Sierra Leone</td>\n",
       "      <td>3.574</td>\n",
       "      <td>Low income</td>\n",
       "    </tr>\n",
       "    <tr>\n",
       "      <th>140</th>\n",
       "      <td>Lesotho</td>\n",
       "      <td>3.512</td>\n",
       "      <td>Lower middle income</td>\n",
       "    </tr>\n",
       "    <tr>\n",
       "      <th>141</th>\n",
       "      <td>Botswana</td>\n",
       "      <td>3.471</td>\n",
       "      <td>Upper middle income</td>\n",
       "    </tr>\n",
       "    <tr>\n",
       "      <th>142</th>\n",
       "      <td>Rwanda</td>\n",
       "      <td>3.268</td>\n",
       "      <td>Low income</td>\n",
       "    </tr>\n",
       "    <tr>\n",
       "      <th>143</th>\n",
       "      <td>Zimbabwe</td>\n",
       "      <td>2.995</td>\n",
       "      <td>Lower middle income</td>\n",
       "    </tr>\n",
       "    <tr>\n",
       "      <th>144</th>\n",
       "      <td>Lebanon</td>\n",
       "      <td>2.955</td>\n",
       "      <td>Lower middle income</td>\n",
       "    </tr>\n",
       "    <tr>\n",
       "      <th>145</th>\n",
       "      <td>Afghanistan</td>\n",
       "      <td>2.404</td>\n",
       "      <td>Low income</td>\n",
       "    </tr>\n",
       "  </tbody>\n",
       "</table>\n",
       "</div>"
      ],
      "text/plain": [
       "          country  score               income\n",
       "136        Zambia  3.760           Low income\n",
       "137        Malawi  3.750           Low income\n",
       "138      Tanzania  3.702  Lower middle income\n",
       "139  Sierra Leone  3.574           Low income\n",
       "140       Lesotho  3.512  Lower middle income\n",
       "141      Botswana  3.471  Upper middle income\n",
       "142        Rwanda  3.268           Low income\n",
       "143      Zimbabwe  2.995  Lower middle income\n",
       "144       Lebanon  2.955  Lower middle income\n",
       "145   Afghanistan  2.404           Low income"
      ]
     },
     "metadata": {},
     "output_type": "display_data"
    }
   ],
   "source": [
    "display(happiness_df.head(10))\n",
    "display(happiness_df.tail(10))"
   ]
  },
  {
   "cell_type": "code",
   "execution_count": 15,
   "id": "a8bdaafa",
   "metadata": {},
   "outputs": [
    {
     "data": {
      "text/plain": [
       "0          Finland\n",
       "1          Denmark\n",
       "2          Iceland\n",
       "3      Switzerland\n",
       "4      Netherlands\n",
       "          ...     \n",
       "141       Botswana\n",
       "142         Rwanda\n",
       "143       Zimbabwe\n",
       "144        Lebanon\n",
       "145    Afghanistan\n",
       "Name: country, Length: 146, dtype: object"
      ]
     },
     "metadata": {},
     "output_type": "display_data"
    }
   ],
   "source": [
    "# 원하는 컬럼만 가져오기\n",
    "\n",
    "# 1차원으로 접근하면 Series 타입이다.\n",
    "display(happiness_df[\"country\"])"
   ]
  },
  {
   "cell_type": "markdown",
   "id": "01d73f0b",
   "metadata": {},
   "source": [
    "### shape\n",
    "- DataFrame의 행(Row)과 열(Column) 크기를 가지고 있는 속성이다.\n",
    "- index는 열 개수에 포함하지 않는다."
   ]
  },
  {
   "cell_type": "code",
   "execution_count": 18,
   "id": "a6a1726e",
   "metadata": {},
   "outputs": [
    {
     "name": "stdout",
     "output_type": "stream",
     "text": [
      "(146, 3)\n"
     ]
    }
   ],
   "source": [
    "print(happiness_df.shape)"
   ]
  },
  {
   "cell_type": "markdown",
   "id": "bd096daf",
   "metadata": {},
   "source": [
    "### DataFrame()\n",
    "- dict를 DataFrame으로 변환할 때 사용한다.\n",
    "- 컬럼명을 추가하거나 인덱스명을 변경하는"
   ]
  }
 ],
 "metadata": {
  "kernelspec": {
   "display_name": "Python 3 (ipykernel)",
   "language": "python",
   "name": "python3"
  },
  "language_info": {
   "codemirror_mode": {
    "name": "ipython",
    "version": 3
   },
   "file_extension": ".py",
   "mimetype": "text/x-python",
   "name": "python",
   "nbconvert_exporter": "python",
   "pygments_lexer": "ipython3",
   "version": "3.11.5"
  }
 },
 "nbformat": 4,
 "nbformat_minor": 5
}
