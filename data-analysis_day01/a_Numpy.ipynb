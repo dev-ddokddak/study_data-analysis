{
 "cells": [
  {
   "cell_type": "code",
   "execution_count": 4,
   "id": "ad266989",
   "metadata": {},
   "outputs": [],
   "source": [
    "# conda update --all\n",
    "# pip install --upgrade nbconvert\n",
    "# conda install -c conda-forge xgboost\n",
    "# https://drive.google.com/file/d/1npdCLF0KMkTspBH-E0TSaNvmc9TEuSiL/view?usp=sharing\n",
    "# conda install -c conda-forge lightgbm\n",
    "\n",
    "import sklearn\n",
    "import pandas as pd\n",
    "import numpy as np\n",
    "import xgboost\n",
    "import lightgbm"
   ]
  },
  {
   "cell_type": "code",
   "execution_count": 5,
   "id": "b347f7f6",
   "metadata": {},
   "outputs": [
    {
     "name": "stdout",
     "output_type": "stream",
     "text": [
      "1.3.0\n",
      "2.0.3\n",
      "1.24.3\n",
      "1.7.3\n",
      "3.3.5\n"
     ]
    }
   ],
   "source": [
    "print(sklearn.__version__)\n",
    "print(pd.__version__)\n",
    "print(np.__version__)\n",
    "print(xgboost.__version__)\n",
    "print(lightgbm.__version__)"
   ]
  },
  {
   "cell_type": "markdown",
   "id": "ebd91ebc",
   "metadata": {},
   "source": [
    "### Numpy\n",
    "- 머신러닝 애플리케이션에서 데이터 추출, 가공, 변환과 같은 데이터 처리 부분을 담당한다.\n",
    "- 넘파이 기반의 사이킷런을 이해하기 위해서는 넘파이는 필수이다.\n",
    "- 사이킷런은 직관적이고 간결하기 때문에 상대적으로 개발하기 쉽지만 넘파이는 양도 많고 배워야 할 것도 많다.\n",
    "- 넘파이 전체를 다 이해하고 공부하는 것은 머신러닝을 포기하게 만들기 때문에 기본 문법과 중요 API만 이해하는 것이 전략적으로 좋다."
   ]
  },
  {
   "cell_type": "markdown",
   "id": "7f004d2e",
   "metadata": {},
   "source": [
    "### ndarray\n",
    "- N차원(Dimension) 배열 객체\n",
    "- 파이썬 list를 array() 메소드에 전달하면 ndarray로 변환되고 다양하고 편리한 기능들을 사용할 수 있게 된다.  \n",
    "📌 반드시 같은 자료형의 데이터만 담아야 한다.\n",
    "\n",
    "![](./images/numpy1.png)"
   ]
  },
  {
   "cell_type": "code",
   "execution_count": 7,
   "id": "f3031a7a",
   "metadata": {},
   "outputs": [],
   "source": [
    "import numpy as np"
   ]
  },
  {
   "cell_type": "code",
   "execution_count": 30,
   "id": "c237c515",
   "metadata": {},
   "outputs": [
    {
     "name": "stdout",
     "output_type": "stream",
     "text": [
      "<class 'numpy.ndarray'>\n",
      "[1 2 3]\n",
      "(3,)\n",
      "(2, 3)\n",
      "1\n",
      "2\n"
     ]
    }
   ],
   "source": [
    "ndarray1 = np.array([1, 2, 3])\n",
    "ndarray2 = np.array([[1, 2, 3], [4, 5, 6]])\n",
    "print(type(ndarray1), ndarray1, sep=\"\\n\")\n",
    "\n",
    "# shape: 차원을 알 수 있으며, 각 차원별 개수를 나타냄\n",
    "print(ndarray1.shape)\n",
    "print(ndarray2.shape)\n",
    "\n",
    "# ndim: 차원만 나타냄\n",
    "print(ndarray1.ndim)\n",
    "print(ndarray2.ndim)"
   ]
  },
  {
   "cell_type": "markdown",
   "id": "f1b7aa52",
   "metadata": {},
   "source": [
    "### astype()\n",
    "- ndarray에 저장된 요소의 타입을 변환 시킬 때 사용한다.\n",
    "- 대용량 데이터 처리 시, 메모리 절약을 위해 사용한다."
   ]
  },
  {
   "cell_type": "code",
   "execution_count": 40,
   "id": "6782d3ce",
   "metadata": {},
   "outputs": [
    {
     "name": "stdout",
     "output_type": "stream",
     "text": [
      "<class 'numpy.ndarray'>\n",
      "int32\n",
      "int8\n",
      "float16\n",
      "[1. 2. 3.]\n",
      "int16\n"
     ]
    }
   ],
   "source": [
    "ndarray1 = np.array([1, 2, 3])\n",
    "ndarray2 = np.array([4, 5, 6])\n",
    "\n",
    "print(type(ndarray1))\n",
    "print(ndarray1.dtype)\n",
    "\n",
    "ndarray1_int8 = ndarray1.astype(np.int8)\n",
    "print(ndarray1_int8.dtype)\n",
    "\n",
    "ndarray1_float16 = ndarray1.astype(np.float16)\n",
    "print(ndarray1_float16.dtype)\n",
    "print(ndarray1_float16)\n",
    "\n",
    "ndarray2_int16 = ndarray2.astype('int16')\n",
    "print(ndarray2_int16.dtype)"
   ]
  },
  {
   "cell_type": "markdown",
   "id": "a198fcab",
   "metadata": {},
   "source": [
    "### ndarray의 axis\n",
    "- 축의 방향성을 표현할 때 axis로 표현할 수 있다.\n",
    "- 2차원(행, 열)일 경우 순서대로 행: axis 0(위에서 아래로), 열: axis 1(왼쪽에서 오른쪽)이다.\n",
    "- 3차원(면, 행, 열)일 경우 순서대로 면: axis 0(뒤에서 앞으로), 행: axis 1(위에서 아래로), 열: axis 2(왼쪽에서 오른쪽)이다.  \n",
    "\n",
    "![](./images/numpy2.png)"
   ]
  },
  {
   "cell_type": "markdown",
   "id": "713f09f1",
   "metadata": {},
   "source": [
    "### arange(), zeros(), ones()\n",
    "- ndarray의 요소를 원하는 범위의 연속값, 0또는 1로 초기화할 때 사용한다."
   ]
  },
  {
   "cell_type": "code",
   "execution_count": 45,
   "id": "393f5e7c",
   "metadata": {},
   "outputs": [
    {
     "name": "stdout",
     "output_type": "stream",
     "text": [
      "[0 1 2 3 4 5 6 7 8 9] int32 (10,)\n",
      "[[0. 0. 0.]\n",
      " [0. 0. 0.]] float64 (2, 3)\n",
      "[1. 1. 1.] float64 (3,)\n",
      "[1 1 1] int8 (3,)\n"
     ]
    }
   ],
   "source": [
    "# 0~9 까지 1차원\n",
    "ndarray = np.arange(0, 10)\n",
    "print(ndarray, ndarray.dtype, ndarray.shape)\n",
    "\n",
    "# 2행 3열 요소 모두 0으로 초기화\n",
    "ndarray = np.zeros((2, 3))\n",
    "print(ndarray, ndarray.dtype, ndarray.shape)\n",
    "\n",
    "# 1차원 3칸 배열 요소 모두 1로 초기화\n",
    "# ndarray = np.ones(3)\n",
    "ndarray = np.ones((3,))\n",
    "print(ndarray, ndarray.dtype, ndarray.shape)\n",
    "\n",
    "# 요소 타입 정수로 변환\n",
    "ndarray_int8 = ndarray.astype(np.int8)\n",
    "print(ndarray_int8, ndarray_int8.dtype, ndarray_int8.shape)"
   ]
  },
  {
   "cell_type": "markdown",
   "id": "1a5c8024",
   "metadata": {},
   "source": [
    "### reshape()\n",
    "- ndarray의 기존 shape를 다른 shape로 변경한다."
   ]
  },
  {
   "cell_type": "code",
   "execution_count": 57,
   "id": "acf0a9b6",
   "metadata": {},
   "outputs": [
    {
     "name": "stdout",
     "output_type": "stream",
     "text": [
      "[0 1 2 3 4 5 6 7] (8,)\n",
      "==============================\n",
      "[[0 1 2 3]\n",
      " [4 5 6 7]] (2, 4)\n",
      "==============================\n",
      "[[0 1]\n",
      " [2 3]\n",
      " [4 5]\n",
      " [6 7]] (4, 2)\n",
      "==============================\n",
      "[[0 1]\n",
      " [2 3]\n",
      " [4 5]\n",
      " [6 7]] (4, 2)\n"
     ]
    }
   ],
   "source": [
    "ndarray1 = np.arange(8)\n",
    "print(ndarray1, ndarray1.shape)\n",
    "\n",
    "print(\"=\" * 30)\n",
    "\n",
    "ndarray2 = ndarray1.reshape(2, 4)\n",
    "print(ndarray2, ndarray2.shape)\n",
    "\n",
    "print(\"=\" * 30)\n",
    "\n",
    "# axis 자리에 -1을 작성하면, 자동으로 열 개수로 나누어 맞춰진다. 직접 계산해서 작성하는 번거러움을 줄여준다.\n",
    "ndarray3 = ndarray1.reshape(-1, 2)\n",
    "print(ndarray3, ndarray3.shape)\n",
    "\n",
    "print(\"=\" * 30)\n",
    "\n",
    "ndarray4 = ndarray1.reshape(4, -1)\n",
    "print(ndarray4, ndarray4.shape)"
   ]
  },
  {
   "cell_type": "markdown",
   "id": "a3ed07bf",
   "metadata": {},
   "source": [
    "### Indexing\n",
    "- 특정 위치의 데이터를 가져오는 것\n",
    "\n",
    "1. 위치 인덱싱(Location indexing): 전달한 위치(인덱스)의 값 한 개 추출\n",
    "2. 슬라이싱(Slicing): 시작 위치와 종료 위치에 해당하는 ndarray 추출\n",
    "3. 팬시 인덱싱(Fancy indexing): list를 전달하여 한 번에 여러 요소를 추출, 특정 위치 값들을 콕 찝어서 추출\n",
    "4. 불린 인덱싱(Boolean indexing): True인 위치의 ndarray 추출"
   ]
  },
  {
   "cell_type": "code",
   "execution_count": 66,
   "id": "3cf91406",
   "metadata": {},
   "outputs": [
    {
     "name": "stdout",
     "output_type": "stream",
     "text": [
      "[ 2  3  4  5  6  7  8  9 10]\n",
      "4 <class 'numpy.int32'>\n",
      "10 <class 'numpy.int32'>\n",
      "9 <class 'numpy.int32'>\n",
      "[  2   3   4   5   6   7   8   9 100]\n"
     ]
    }
   ],
   "source": [
    "# 1-1. 1차원 위치 인덱싱(Location indexing)\n",
    "\n",
    "# 2부터 10까지 순서대로 요소를 갖는 1차원 ndarray\n",
    "ndarray = np.arange(start=2, stop=11)\n",
    "print(ndarray)\n",
    "\n",
    "data = ndarray[2]\n",
    "print(data, type(data))\n",
    "\n",
    "data = ndarray[-1]\n",
    "print(data, type(data))\n",
    "\n",
    "data = ndarray[-2]\n",
    "print(data, type(data))\n",
    "\n",
    "ndarray[-1] = 100\n",
    "print(ndarray)"
   ]
  },
  {
   "cell_type": "code",
   "execution_count": 74,
   "id": "d5d36901",
   "metadata": {},
   "outputs": [
    {
     "name": "stdout",
     "output_type": "stream",
     "text": [
      "[[1 2 3]\n",
      " [4 5 6]\n",
      " [7 8 9]]\n",
      "4\n",
      "5\n",
      "7\n",
      "8\n",
      "[1 2 3] (3,)\n"
     ]
    }
   ],
   "source": [
    "# 1-2. 2차원 위치 인덱싱(Location indexing)\n",
    "ndarray1 = np.arange(start=1, stop=10)\n",
    "ndarray2 = ndarray1.reshape((3, -1))\n",
    "print(ndarray2)\n",
    "\n",
    "print(ndarray2[1, 0])\n",
    "print(ndarray2[1, 1])\n",
    "print(ndarray2[2, 0])\n",
    "print(ndarray2[2, 1])\n",
    "print(ndarray2[0], ndarray2[0].shape)"
   ]
  },
  {
   "cell_type": "code",
   "execution_count": 84,
   "id": "b71f78d4",
   "metadata": {},
   "outputs": [
    {
     "name": "stdout",
     "output_type": "stream",
     "text": [
      "[2 4 6 8]\n",
      "[2 4 6] (3,)\n",
      "[8] (1,)\n",
      "[2 4 6 8]\n",
      "[2 4 6 8]\n",
      "[6 4 2]\n"
     ]
    }
   ],
   "source": [
    "# 2-1. 1차원 슬라이싱(Slicing)\n",
    "\n",
    "ndarray1 = np.arange(start=2, stop=10, step=2)\n",
    "print(ndarray1)\n",
    "\n",
    "print(ndarray1[:3], ndarray1[:3].shape)\n",
    "print(ndarray1[3:], ndarray1[3:].shape)\n",
    "print(ndarray1[:])\n",
    "print(ndarray1[-4:])\n",
    "print(ndarray1[-2::-1])"
   ]
  },
  {
   "cell_type": "code",
   "execution_count": 96,
   "id": "bec4bb5f",
   "metadata": {
    "scrolled": true
   },
   "outputs": [
    {
     "name": "stdout",
     "output_type": "stream",
     "text": [
      "[ 1  2  3  4  5  6  7  8  9 10 11 12 13 14 15 16 17 18 19 20 21 22 23 24\n",
      " 25 26 27]\n",
      "==============================\n",
      "[[ 1  2  3]\n",
      " [ 4  5  6]\n",
      " [ 7  8  9]\n",
      " [10 11 12]\n",
      " [13 14 15]\n",
      " [16 17 18]\n",
      " [19 20 21]\n",
      " [22 23 24]\n",
      " [25 26 27]]\n",
      "==============================\n",
      "[[1 2]\n",
      " [4 5]\n",
      " [7 8]]\n",
      "==============================\n",
      "[[13 14 15]\n",
      " [16 17 18]\n",
      " [19 20 21]\n",
      " [22 23 24]\n",
      " [25 26 27]]\n",
      "==============================\n",
      "[[13 14 15]\n",
      " [16 17 18]\n",
      " [19 20 21]\n",
      " [22 23 24]\n",
      " [25 26 27]]\n",
      "==============================\n",
      "[[ 1  2  3]\n",
      " [ 4  5  6]\n",
      " [ 7  8  9]\n",
      " [10 11 12]\n",
      " [13 14 15]\n",
      " [16 17 18]\n",
      " [19 20 21]\n",
      " [22 23 24]\n",
      " [25 26 27]]\n",
      "==============================\n",
      "[[22 23]]\n",
      "==============================\n",
      "[[25 26 27]\n",
      " [22 23 24]\n",
      " [19 20 21]\n",
      " [16 17 18]\n",
      " [13 14 15]\n",
      " [10 11 12]\n",
      " [ 7  8  9]\n",
      " [ 4  5  6]\n",
      " [ 1  2  3]]\n",
      "==============================\n",
      "[[27 26 25]\n",
      " [24 23 22]\n",
      " [21 20 19]\n",
      " [18 17 16]\n",
      " [15 14 13]\n",
      " [12 11 10]\n",
      " [ 9  8  7]\n",
      " [ 6  5  4]\n",
      " [ 3  2  1]]\n"
     ]
    }
   ],
   "source": [
    "# 2-2. 2차원 슬라이싱(Slicing)\n",
    "\n",
    "ndarray1 = np.arange(start=1, stop=28)\n",
    "print(ndarray1)\n",
    "\n",
    "print(\"=\" * 30)\n",
    "\n",
    "ndarray2 = ndarray1.reshape((-1, 3))\n",
    "print(ndarray2)\n",
    "\n",
    "print(\"=\" * 30)\n",
    "\n",
    "print(ndarray2[:3, :2])\n",
    "\n",
    "print(\"=\" * 30)\n",
    "\n",
    "print(ndarray2[4:9])\n",
    "\n",
    "print(\"=\" * 30)\n",
    "\n",
    "print(ndarray2[4:, :])\n",
    "\n",
    "print(\"=\" * 30)\n",
    "\n",
    "print(ndarray2[:])\n",
    "\n",
    "print(\"=\" * 30)\n",
    "\n",
    "print(ndarray2[-2:-1, 0:2])\n",
    "\n",
    "print(\"=\" * 30)\n",
    "\n",
    "print(ndarray2[::-1])\n",
    "\n",
    "print(\"=\" * 30)\n",
    "\n",
    "print(ndarray2[::-1, ::-1])"
   ]
  },
  {
   "cell_type": "code",
   "execution_count": 103,
   "id": "6edfe3b6",
   "metadata": {
    "scrolled": true
   },
   "outputs": [
    {
     "name": "stdout",
     "output_type": "stream",
     "text": [
      "[[ 1  2  3  4  5]\n",
      " [ 6  7  8  9 10]\n",
      " [11 12 13 14 15]\n",
      " [16 17 18 19 20]]\n",
      "[[ 3  4  5]\n",
      " [ 8  9 10]\n",
      " [18 19 20]]\n",
      "[[ 1  2  3  4  5]\n",
      " [ 6  7  8  9 10]]\n",
      "[ 7 14]\n",
      "[17 13 10]\n"
     ]
    }
   ],
   "source": [
    "# 3. 팬시 인덱싱(Fancy indexing)\n",
    "\n",
    "ndarray1 = np.arange(start=1, stop=21)\n",
    "ndarray2 = ndarray1.reshape((4, 5))\n",
    "print(ndarray2)\n",
    "\n",
    "print(ndarray2[[0, 1, 3], 2:5])\n",
    "print(ndarray2[[0, 1]])\n",
    "\n",
    "# 2차원 ndarray에서 행과 열 모두 팬시 인덱싱을 사용하면, 해당 좌표의 열백터를 가져온다.\n",
    "# ndarray2[[x1, x2], [y1, y2]] : (x1, y1), (x2, y2) : [x, y]\n",
    "print(ndarray2[[1, 2], [1, 3]])\n",
    "print(ndarray2[[3, 2, 1], [1, 2, 4]])"
   ]
  },
  {
   "cell_type": "code",
   "execution_count": 116,
   "id": "ba448260",
   "metadata": {},
   "outputs": [
    {
     "name": "stdout",
     "output_type": "stream",
     "text": [
      "[False False False  True False False False False  True False False False\n",
      " False  True False False False False  True False False False False  True\n",
      " False False False False  True False False False False  True]\n",
      "[ 10  25  40  55  70  85 100]\n",
      "[0 1 2]\n",
      "[1]\n"
     ]
    }
   ],
   "source": [
    "# 4. 불린 인덱싱(Boolean indexing)\n",
    "ndarray1 = np.arange(start=1, stop=101, step=3)\n",
    "print(ndarray1 % 5 == 0)\n",
    "print(ndarray1[ndarray1 % 5 == 0])\n",
    "\n",
    "ndarray1 = np.arange(3)\n",
    "print(ndarray1)\n",
    "print(ndarray1[[False, True, False]])"
   ]
  },
  {
   "cell_type": "markdown",
   "id": "03ea2df5",
   "metadata": {},
   "source": [
    "### 정렬\n",
    "- 모두 오름차순 정렬이며, 내림차순은 오름차순 정렬 후 [::-1]을 붙여 사용한다.\n",
    "1. np.sort(ndarray) : 전달한 기존 행렬은 그대로 놔둔 채 새롭게 정렬된 행렬을 리턴한다.\n",
    "2. np.sort(ndarray, axis=n) : 전달한 축(axis)을 기준으로 정렬한다.\n",
    "3. ndarray.sort() : 기존 행렬을 정렬하며, 리턴은 없다.\n",
    "4. np.argsort(ndarray) : 요소 정렬 후 원래 인덱스(정렬 전 인덱스)를 리턴한다."
   ]
  },
  {
   "cell_type": "code",
   "execution_count": 117,
   "id": "beb5efbd",
   "metadata": {},
   "outputs": [
    {
     "name": "stdout",
     "output_type": "stream",
     "text": [
      "원본 배열: [0 4 2 5]\n",
      "정렬된 배열: [0 2 4 5]\n"
     ]
    }
   ],
   "source": [
    "# np.sort(ndarray)\n",
    "\n",
    "original_ndarray = np.array([0, 4, 2, 5])\n",
    "\n",
    "sorted_ndarray = np.sort(original_ndarray)\n",
    "print(f\"원본 배열: {original_ndarray}\")\n",
    "print(f\"정렬된 배열: {sorted_ndarray}\")"
   ]
  },
  {
   "cell_type": "code",
   "execution_count": 123,
   "id": "0b17c49e",
   "metadata": {},
   "outputs": [
    {
     "name": "stdout",
     "output_type": "stream",
     "text": [
      "원본 \n",
      "[[20 18 16 14 12]\n",
      " [10  8  6  4  2]]\n",
      "axis0 정렬 \n",
      "[[10  3  6  4  2]\n",
      " [20  8 16 14 12]]\n",
      "axis1 정렬 \n",
      "[[ 3 12 14 16 20]\n",
      " [ 2  4  6  8 10]]\n"
     ]
    }
   ],
   "source": [
    "# np.sort(ndarray, axis=n)\n",
    "\n",
    "ndarray1 = np.array([i for i in range(20, 0, -2)])\n",
    "ndarray2 = ndarray1.reshape(2, -1)\n",
    "print(f\"원본 \\n{ndarray2}\")\n",
    "\n",
    "ndarray2[0, 1] = 3\n",
    "sorted_ndarray_axis0 = np.sort(ndarray2, axis=0)\n",
    "print(f\"axis0 정렬 \\n{sorted_ndarray_axis0}\")\n",
    "\n",
    "sorted_ndarray_axis1 = np.sort(ndarray2, axis=1)\n",
    "print(f\"axis1 정렬 \\n{sorted_ndarray_axis1}\")"
   ]
  },
  {
   "cell_type": "code",
   "execution_count": 127,
   "id": "7273bbbe",
   "metadata": {},
   "outputs": [
    {
     "name": "stdout",
     "output_type": "stream",
     "text": [
      "원본 배열: [0 1 2 4]\n",
      "내림 차순: [4 2 1 0]\n"
     ]
    }
   ],
   "source": [
    "# ndarray.sort()\n",
    "\n",
    "original_ndarray = np.array([1, 2, 0, 4])\n",
    "original_ndarray.sort()\n",
    "\n",
    "print(f\"원본 배열: {original_ndarray}\")\n",
    "print(f\"내림 차순: {original_ndarray[::-1]}\")"
   ]
  },
  {
   "cell_type": "code",
   "execution_count": null,
   "id": "17e1554e",
   "metadata": {},
   "outputs": [],
   "source": []
  },
  {
   "cell_type": "code",
   "execution_count": null,
   "id": "b25edcb8",
   "metadata": {},
   "outputs": [],
   "source": []
  },
  {
   "cell_type": "code",
   "execution_count": null,
   "id": "885da8f6",
   "metadata": {},
   "outputs": [],
   "source": []
  },
  {
   "cell_type": "code",
   "execution_count": null,
   "id": "8fe28bf3",
   "metadata": {},
   "outputs": [],
   "source": []
  },
  {
   "cell_type": "code",
   "execution_count": null,
   "id": "0455ea82",
   "metadata": {},
   "outputs": [],
   "source": []
  },
  {
   "cell_type": "code",
   "execution_count": null,
   "id": "f3afd2ee",
   "metadata": {},
   "outputs": [],
   "source": []
  }
 ],
 "metadata": {
  "kernelspec": {
   "display_name": "Python 3 (ipykernel)",
   "language": "python",
   "name": "python3"
  },
  "language_info": {
   "codemirror_mode": {
    "name": "ipython",
    "version": 3
   },
   "file_extension": ".py",
   "mimetype": "text/x-python",
   "name": "python",
   "nbconvert_exporter": "python",
   "pygments_lexer": "ipython3",
   "version": "3.11.5"
  }
 },
 "nbformat": 4,
 "nbformat_minor": 5
}
