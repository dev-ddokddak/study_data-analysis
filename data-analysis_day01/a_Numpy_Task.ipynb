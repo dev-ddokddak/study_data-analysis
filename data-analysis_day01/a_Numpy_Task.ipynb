{
 "cells": [
  {
   "cell_type": "markdown",
   "id": "0d7d0ae9",
   "metadata": {},
   "source": [
    "### ndarray Task"
   ]
  },
  {
   "cell_type": "code",
   "execution_count": 23,
   "id": "1cb5c6c0",
   "metadata": {},
   "outputs": [
    {
     "name": "stdout",
     "output_type": "stream",
     "text": [
      "<class 'numpy.ndarray'>\n",
      "(10,)\n",
      "1\n",
      "int32\n",
      "==================================================\n",
      "<class 'numpy.ndarray'>\n",
      "(3, 2)\n",
      "2\n",
      "int32\n",
      "==================================================\n",
      "<class 'numpy.ndarray'>\n",
      "(4, 1)\n",
      "2\n",
      "int32\n",
      "==================================================\n",
      "int32\n",
      "==================================================\n",
      "(10,)\n",
      "==================================================\n",
      "[[6. 5.]\n",
      " [4. 3.]\n",
      " [2. 1.]]\n",
      "==================================================\n",
      "(3, 2)\n",
      "==================================================\n",
      "int8\n",
      "[[6 5]\n",
      " [4 3]\n",
      " [2 1]]\n",
      "==================================================\n",
      "[[15]\n",
      " [13]\n",
      " [11]\n",
      " [ 9]]\n",
      "==================================================\n",
      "(4, 1)\n"
     ]
    }
   ],
   "source": [
    "import numpy as np\n",
    "\n",
    "#1 1~10까지의 요소를 ndarray에 담는다.\n",
    "# ndarray1 = np.array([i for i in range(1, 11)])\n",
    "ndarray1 = np.array(list(range(1, 11)))\n",
    "print(type(ndarray1), ndarray1.shape, ndarray1.ndim, ndarray1.dtype, sep=\"\\n\")\n",
    "\n",
    "print(\"=\" * 50)\n",
    "\n",
    "#2 3행 2열 list를 ndarray에 담고 각 요소는 순서대로 6, 5, 4, 3, 2, 1을 담는다.\n",
    "python_list = []\n",
    "python_list.append([6 - i for i in range(2)])\n",
    "python_list.append([4 - i for i in range(2)])\n",
    "python_list.append([2 - i for i in range(2)])\n",
    "\n",
    "ndarray2 = np.array(python_list)\n",
    "print(type(ndarray2), ndarray2.shape, ndarray2.ndim, ndarray2.dtype, sep=\"\\n\")\n",
    "\n",
    "print(\"=\" * 50)\n",
    "\n",
    "#3 4행 1열 ndarray, 순서대로 10, 8, 6, 4를 담는다(transpose, 전치).\n",
    "ndarray3 = np.array([[(5 - i) * 2 for i in range(4)]]).T\n",
    "print(type(ndarray3), ndarray3.shape, ndarray3.ndim, ndarray3.dtype, sep=\"\\n\")\n",
    "\n",
    "print(\"=\" * 50)\n",
    "\n",
    "# #1에서 제작된 ndarray의 요소 타입 출력\n",
    "print(ndarray1.dtype)\n",
    "\n",
    "print(\"=\" * 50)\n",
    "\n",
    "# #1에서 제작된 ndarray의 차원 출력\n",
    "print(ndarray1.shape)\n",
    "\n",
    "print(\"=\" * 50)\n",
    "\n",
    "# #2에서 제작된 ndarray의 요소 타입을 float으로 변환\n",
    "ndarray2_float32 = ndarray2.astype(np.float32)\n",
    "print(ndarray2_float32)\n",
    "\n",
    "print(\"=\" * 50)\n",
    "\n",
    "# #2에서 제작된 ndarray의 차원 출력\n",
    "print(ndarray2.shape)\n",
    "\n",
    "print(\"=\" * 50)\n",
    "\n",
    "# #3에서 제작된 ndarray의 요소 타입을 int8로 변환\n",
    "ndarray2_int8 = ndarray2.astype(np.int8)\n",
    "print(ndarray2_int8.dtype, ndarray2_int8, sep=\"\\n\")\n",
    "\n",
    "print(\"=\" * 50)\n",
    "\n",
    "# #3에서 제작된 ndarray의 요소에 5씩 더하기\n",
    "ndarray3_result = ndarray3 + 5\n",
    "print(ndarray3_result)\n",
    "\n",
    "print(\"=\" * 50)\n",
    "\n",
    "# #3에서 제작된 ndarray의 차원 출력\n",
    "print(ndarray3.shape)"
   ]
  },
  {
   "cell_type": "markdown",
   "id": "64489094",
   "metadata": {},
   "source": [
    "### arange, zeros, ones Task"
   ]
  },
  {
   "cell_type": "code",
   "execution_count": 29,
   "id": "111191ac",
   "metadata": {},
   "outputs": [
    {
     "name": "stdout",
     "output_type": "stream",
     "text": [
      "[0 0 0 0 0 0 0 0 0 0] int32 (10,)\n",
      "[[1 1 1 1]\n",
      " [1 1 1 1]\n",
      " [1 1 1 1]] int8 (3, 4)\n",
      "[0 1 2 3 4] int32 (5,)\n"
     ]
    }
   ],
   "source": [
    "# axis 0이 10인 shape이면서 모든 원소가 0, dtype은 int32 인 ndarray 만들기\n",
    "ndarray = np.zeros((10, ), dtype=np.int32)\n",
    "print(ndarray, ndarray.dtype, ndarray.shape)\n",
    "\n",
    "# axis 0이 3, axis1이 4인 shape이면서 모든 원소가 1인 ndarray 만들기\n",
    "ndarray = np.ones((3, 4), dtype=np.int8)\n",
    "print(ndarray, ndarray.dtype, ndarray.shape)\n",
    "\n",
    "# axis 0이 5, 각 요소가 0~4인 ndarray 만들기\n",
    "ndarray = np.arange(5)\n",
    "print(ndarray, ndarray.dtype, ndarray.shape)"
   ]
  },
  {
   "cell_type": "markdown",
   "id": "1979e0fc",
   "metadata": {},
   "source": [
    "### reshape Task"
   ]
  },
  {
   "cell_type": "code",
   "execution_count": 41,
   "id": "f951babf",
   "metadata": {},
   "outputs": [
    {
     "name": "stdout",
     "output_type": "stream",
     "text": [
      "==================================================\n",
      "(8, 2)\n",
      "[[ 0  1]\n",
      " [ 2  3]\n",
      " [ 4  5]\n",
      " [ 6  7]\n",
      " [ 8  9]\n",
      " [10 11]\n",
      " [12 13]\n",
      " [14 15]]\n",
      "==================================================\n",
      "(8, 2)\n",
      "[[ 0  1]\n",
      " [ 2  3]\n",
      " [ 4  5]\n",
      " [ 6  7]\n",
      " [ 8  9]\n",
      " [10 11]\n",
      " [12 13]\n",
      " [14 15]]\n",
      "==================================================\n",
      "(4, 2, 2)\n",
      "[[[ 0  1]\n",
      "  [ 2  3]]\n",
      "\n",
      " [[ 4  5]\n",
      "  [ 6  7]]\n",
      "\n",
      " [[ 8  9]\n",
      "  [10 11]]\n",
      "\n",
      " [[12 13]\n",
      "  [14 15]]]\n",
      "==================================================\n",
      "(16, 1)\n",
      "[[ 0]\n",
      " [ 1]\n",
      " [ 2]\n",
      " [ 3]\n",
      " [ 4]\n",
      " [ 5]\n",
      " [ 6]\n",
      " [ 7]\n",
      " [ 8]\n",
      " [ 9]\n",
      " [10]\n",
      " [11]\n",
      " [12]\n",
      " [13]\n",
      " [14]\n",
      " [15]]\n",
      "==================================================\n",
      "(16,)\n",
      "[ 0  1  2  3  4  5  6  7  8  9 10 11 12 13 14 15]\n"
     ]
    }
   ],
   "source": [
    "ndarray1 = np.arange(start=0, stop=16)\n",
    "ndarray1\n",
    "\n",
    "print(\"=\" * 50)\n",
    "\n",
    "# 2 Dimension, axis 1은 2로 변경\n",
    "ndarray2 = ndarray1.reshape((-1, 2))\n",
    "print(ndarray2.shape, ndarray2, sep=\"\\n\")\n",
    "\n",
    "print(\"=\" * 50)\n",
    "\n",
    "# 2 Dimension, axis 0은 8로 변경\n",
    "ndarray3 = ndarray1.reshape((8, -1))\n",
    "print(ndarray3.shape, ndarray3, sep=\"\\n\")\n",
    "\n",
    "print(\"=\" * 50)\n",
    "\n",
    "# 3 Dimension으로 변경\n",
    "ndarray4 = ndarray1.reshape((4, 2, -1))\n",
    "print(ndarray4.shape, ndarray4, sep=\"\\n\")\n",
    "\n",
    "print(\"=\" * 50)\n",
    "\n",
    "# ndarray3을 axis 1이 1인 2차원 ndarray로 변환\n",
    "ndarray5 = ndarray4.reshape((-1, 1))\n",
    "print(ndarray5.shape, ndarray5, sep=\"\\n\")\n",
    "\n",
    "print(\"=\" * 50)\n",
    "\n",
    "# ndarray3을 1 Dimension으로 변환\n",
    "ndarray6 = ndarray4.reshape((-1,))\n",
    "print(ndarray6.shape, ndarray6, sep=\"\\n\")"
   ]
  },
  {
   "cell_type": "markdown",
   "id": "ee2da2f2",
   "metadata": {},
   "source": [
    "### Indexing Task"
   ]
  },
  {
   "cell_type": "code",
   "execution_count": null,
   "id": "ae76306a",
   "metadata": {},
   "outputs": [],
   "source": []
  },
  {
   "cell_type": "code",
   "execution_count": null,
   "id": "bffb0634",
   "metadata": {},
   "outputs": [],
   "source": []
  },
  {
   "cell_type": "code",
   "execution_count": null,
   "id": "bc4e0427",
   "metadata": {},
   "outputs": [],
   "source": []
  },
  {
   "cell_type": "code",
   "execution_count": null,
   "id": "dcfcc4aa",
   "metadata": {},
   "outputs": [],
   "source": []
  },
  {
   "cell_type": "code",
   "execution_count": null,
   "id": "c1fcc159",
   "metadata": {},
   "outputs": [],
   "source": []
  }
 ],
 "metadata": {
  "kernelspec": {
   "display_name": "Python 3 (ipykernel)",
   "language": "python",
   "name": "python3"
  },
  "language_info": {
   "codemirror_mode": {
    "name": "ipython",
    "version": 3
   },
   "file_extension": ".py",
   "mimetype": "text/x-python",
   "name": "python",
   "nbconvert_exporter": "python",
   "pygments_lexer": "ipython3",
   "version": "3.11.5"
  }
 },
 "nbformat": 4,
 "nbformat_minor": 5
}
