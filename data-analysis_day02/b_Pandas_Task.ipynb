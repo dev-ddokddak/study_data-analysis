{
 "cells": [
  {
   "cell_type": "markdown",
   "id": "37b90fe6",
   "metadata": {},
   "source": [
    "### DataFrame Task"
   ]
  },
  {
   "cell_type": "code",
   "execution_count": 11,
   "id": "99e15812",
   "metadata": {},
   "outputs": [
    {
     "data": {
      "text/html": [
       "<div>\n",
       "<style scoped>\n",
       "    .dataframe tbody tr th:only-of-type {\n",
       "        vertical-align: middle;\n",
       "    }\n",
       "\n",
       "    .dataframe tbody tr th {\n",
       "        vertical-align: top;\n",
       "    }\n",
       "\n",
       "    .dataframe thead th {\n",
       "        text-align: right;\n",
       "    }\n",
       "</style>\n",
       "<table border=\"1\" class=\"dataframe\">\n",
       "  <thead>\n",
       "    <tr style=\"text-align: right;\">\n",
       "      <th></th>\n",
       "      <th>Name</th>\n",
       "      <th>Price</th>\n",
       "    </tr>\n",
       "  </thead>\n",
       "  <tbody>\n",
       "    <tr>\n",
       "      <th>0</th>\n",
       "      <td>사과</td>\n",
       "      <td>2400</td>\n",
       "    </tr>\n",
       "    <tr>\n",
       "      <th>1</th>\n",
       "      <td>딸기</td>\n",
       "      <td>9600</td>\n",
       "    </tr>\n",
       "    <tr>\n",
       "      <th>2</th>\n",
       "      <td>감</td>\n",
       "      <td>15600</td>\n",
       "    </tr>\n",
       "    <tr>\n",
       "      <th>3</th>\n",
       "      <td>참외</td>\n",
       "      <td>7200</td>\n",
       "    </tr>\n",
       "  </tbody>\n",
       "</table>\n",
       "</div>"
      ],
      "text/plain": [
       "  Name  Price\n",
       "0   사과   2400\n",
       "1   딸기   9600\n",
       "2    감  15600\n",
       "3   참외   7200"
      ]
     },
     "metadata": {},
     "output_type": "display_data"
    }
   ],
   "source": [
    "import pandas as pd\n",
    "\n",
    "# 아래의 dict를 DataFrame으로 변환한다.\n",
    "# 전체 가격을 20%씩 인상한다.\n",
    "\n",
    "fruit = {\n",
    "    \"Name\": [\"사과\", \"딸기\", \"감\", \"참외\"],\n",
    "    \"Price\": [2000, 8000, 13000, 6000]\n",
    "}\n",
    "\n",
    "fruit_df = pd.DataFrame(fruit)\n",
    "fruit_df[\"Price\"] = fruit_df[[\"Price\"]] * 1.2\n",
    "fruit_df[\"Price\"] = fruit_df[\"Price\"].astype('int32')\n",
    "\n",
    "display(fruit_df)"
   ]
  }
 ],
 "metadata": {
  "kernelspec": {
   "display_name": "Python 3 (ipykernel)",
   "language": "python",
   "name": "python3"
  },
  "language_info": {
   "codemirror_mode": {
    "name": "ipython",
    "version": 3
   },
   "file_extension": ".py",
   "mimetype": "text/x-python",
   "name": "python",
   "nbconvert_exporter": "python",
   "pygments_lexer": "ipython3",
   "version": "3.11.5"
  }
 },
 "nbformat": 4,
 "nbformat_minor": 5
}
